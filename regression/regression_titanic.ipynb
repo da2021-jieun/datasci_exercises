{
 "cells": [
  {
   "cell_type": "markdown",
   "metadata": {},
   "source": [
    "# Regression on the Titanic dataset\r\n",
    "\r\n",
    "- [Link to dataset](https://www.kaggle.com/c/titanic/data)"
   ]
  },
  {
   "cell_type": "code",
   "execution_count": 1,
   "metadata": {},
   "outputs": [],
   "source": [
    "path= \"./data/\"\r\n",
    "csv_train= \"train.csv\"\r\n",
    "csv_test= \"test.csv\"\r\n",
    "import pandas as pd \r\n",
    "train= pd.read_csv(path+csv_train)\r\n",
    "test= pd.read_csv(path+csv_test)\r\n",
    "data= train.copy()"
   ]
  },
  {
   "cell_type": "markdown",
   "metadata": {},
   "source": [
    "## EDA"
   ]
  },
  {
   "cell_type": "code",
   "execution_count": 2,
   "metadata": {},
   "outputs": [
    {
     "data": {
      "text/plain": [
       "Index(['PassengerId', 'Survived', 'Pclass', 'Name', 'Sex', 'Age', 'SibSp',\n",
       "       'Parch', 'Ticket', 'Fare', 'Cabin', 'Embarked'],\n",
       "      dtype='object')"
      ]
     },
     "execution_count": 2,
     "metadata": {},
     "output_type": "execute_result"
    }
   ],
   "source": [
    "data.columns"
   ]
  },
  {
   "cell_type": "code",
   "execution_count": 3,
   "metadata": {},
   "outputs": [
    {
     "data": {
      "text/plain": [
       "PassengerId      0\n",
       "Survived         0\n",
       "Pclass           0\n",
       "Name             0\n",
       "Sex              0\n",
       "Age            177\n",
       "SibSp            0\n",
       "Parch            0\n",
       "Ticket           0\n",
       "Fare             0\n",
       "Cabin          687\n",
       "Embarked         2\n",
       "dtype: int64"
      ]
     },
     "execution_count": 3,
     "metadata": {},
     "output_type": "execute_result"
    }
   ],
   "source": [
    "data.isna().sum()"
   ]
  },
  {
   "cell_type": "code",
   "execution_count": 4,
   "metadata": {},
   "outputs": [
    {
     "data": {
      "text/plain": [
       "(891, 12)"
      ]
     },
     "execution_count": 4,
     "metadata": {},
     "output_type": "execute_result"
    }
   ],
   "source": [
    "data.shape"
   ]
  },
  {
   "cell_type": "code",
   "execution_count": 5,
   "metadata": {},
   "outputs": [
    {
     "data": {
      "text/plain": [
       "B96 B98    4\n",
       "E101       3\n",
       "F33        3\n",
       "B28        2\n",
       "D36        2\n",
       "          ..\n",
       "C85        1\n",
       "C123       1\n",
       "B39        1\n",
       "B101       1\n",
       "C70        1\n",
       "Name: Cabin, Length: 101, dtype: int64"
      ]
     },
     "execution_count": 5,
     "metadata": {},
     "output_type": "execute_result"
    }
   ],
   "source": [
    "data[data.Survived==1].Cabin.value_counts()"
   ]
  },
  {
   "cell_type": "code",
   "execution_count": 6,
   "metadata": {},
   "outputs": [
    {
     "data": {
      "text/plain": [
       "61     1\n",
       "829    1\n",
       "Name: Survived, dtype: int64"
      ]
     },
     "execution_count": 6,
     "metadata": {},
     "output_type": "execute_result"
    }
   ],
   "source": [
    "data[data.Embarked.isna()].Survived"
   ]
  },
  {
   "cell_type": "code",
   "execution_count": 7,
   "metadata": {},
   "outputs": [
    {
     "data": {
      "text/plain": [
       "S    644\n",
       "C    168\n",
       "Q     77\n",
       "Name: Embarked, dtype: int64"
      ]
     },
     "execution_count": 7,
     "metadata": {},
     "output_type": "execute_result"
    }
   ],
   "source": [
    "data.Embarked.value_counts()"
   ]
  },
  {
   "cell_type": "code",
   "execution_count": 8,
   "metadata": {},
   "outputs": [
    {
     "data": {
      "text/plain": [
       "0    427\n",
       "1    217\n",
       "Name: Survived, dtype: int64"
      ]
     },
     "execution_count": 8,
     "metadata": {},
     "output_type": "execute_result"
    }
   ],
   "source": [
    "data[data.Embarked==\"S\"].Survived.value_counts()"
   ]
  },
  {
   "cell_type": "code",
   "execution_count": 9,
   "metadata": {},
   "outputs": [
    {
     "data": {
      "text/plain": [
       "8.0500     43\n",
       "13.0000    42\n",
       "7.8958     38\n",
       "7.7500     34\n",
       "26.0000    31\n",
       "           ..\n",
       "50.4958     1\n",
       "13.8583     1\n",
       "8.4583      1\n",
       "7.7250      1\n",
       "7.5208      1\n",
       "Name: Fare, Length: 248, dtype: int64"
      ]
     },
     "execution_count": 9,
     "metadata": {},
     "output_type": "execute_result"
    }
   ],
   "source": [
    "data.Fare.value_counts()"
   ]
  },
  {
   "cell_type": "code",
   "execution_count": 10,
   "metadata": {},
   "outputs": [
    {
     "data": {
      "text/plain": [
       "3    491\n",
       "1    216\n",
       "2    184\n",
       "Name: Pclass, dtype: int64"
      ]
     },
     "execution_count": 10,
     "metadata": {},
     "output_type": "execute_result"
    }
   ],
   "source": [
    "data.Pclass.value_counts()"
   ]
  },
  {
   "cell_type": "code",
   "execution_count": 11,
   "metadata": {},
   "outputs": [
    {
     "data": {
      "text/html": [
       "<div>\n",
       "<style scoped>\n",
       "    .dataframe tbody tr th:only-of-type {\n",
       "        vertical-align: middle;\n",
       "    }\n",
       "\n",
       "    .dataframe tbody tr th {\n",
       "        vertical-align: top;\n",
       "    }\n",
       "\n",
       "    .dataframe thead th {\n",
       "        text-align: right;\n",
       "    }\n",
       "</style>\n",
       "<table border=\"1\" class=\"dataframe\">\n",
       "  <thead>\n",
       "    <tr style=\"text-align: right;\">\n",
       "      <th></th>\n",
       "      <th>Survived</th>\n",
       "    </tr>\n",
       "    <tr>\n",
       "      <th>Pclass</th>\n",
       "      <th></th>\n",
       "    </tr>\n",
       "  </thead>\n",
       "  <tbody>\n",
       "    <tr>\n",
       "      <th>1</th>\n",
       "      <td>136</td>\n",
       "    </tr>\n",
       "    <tr>\n",
       "      <th>2</th>\n",
       "      <td>87</td>\n",
       "    </tr>\n",
       "    <tr>\n",
       "      <th>3</th>\n",
       "      <td>119</td>\n",
       "    </tr>\n",
       "  </tbody>\n",
       "</table>\n",
       "</div>"
      ],
      "text/plain": [
       "        Survived\n",
       "Pclass          \n",
       "1            136\n",
       "2             87\n",
       "3            119"
      ]
     },
     "execution_count": 11,
     "metadata": {},
     "output_type": "execute_result"
    }
   ],
   "source": [
    "data.groupby(\"Pclass\")[[\"Survived\"]].agg({\"Survived\": \"sum\"})"
   ]
  },
  {
   "cell_type": "code",
   "execution_count": 12,
   "metadata": {},
   "outputs": [
    {
     "data": {
      "text/html": [
       "<div>\n",
       "<style scoped>\n",
       "    .dataframe tbody tr th:only-of-type {\n",
       "        vertical-align: middle;\n",
       "    }\n",
       "\n",
       "    .dataframe tbody tr th {\n",
       "        vertical-align: top;\n",
       "    }\n",
       "\n",
       "    .dataframe thead th {\n",
       "        text-align: right;\n",
       "    }\n",
       "</style>\n",
       "<table border=\"1\" class=\"dataframe\">\n",
       "  <thead>\n",
       "    <tr style=\"text-align: right;\">\n",
       "      <th>Sex</th>\n",
       "      <th>female</th>\n",
       "      <th>male</th>\n",
       "    </tr>\n",
       "    <tr>\n",
       "      <th>Pclass</th>\n",
       "      <th></th>\n",
       "      <th></th>\n",
       "    </tr>\n",
       "  </thead>\n",
       "  <tbody>\n",
       "    <tr>\n",
       "      <th>1</th>\n",
       "      <td>0.968085</td>\n",
       "      <td>0.368852</td>\n",
       "    </tr>\n",
       "    <tr>\n",
       "      <th>2</th>\n",
       "      <td>0.921053</td>\n",
       "      <td>0.157407</td>\n",
       "    </tr>\n",
       "    <tr>\n",
       "      <th>3</th>\n",
       "      <td>0.500000</td>\n",
       "      <td>0.135447</td>\n",
       "    </tr>\n",
       "  </tbody>\n",
       "</table>\n",
       "</div>"
      ],
      "text/plain": [
       "Sex       female      male\n",
       "Pclass                    \n",
       "1       0.968085  0.368852\n",
       "2       0.921053  0.157407\n",
       "3       0.500000  0.135447"
      ]
     },
     "execution_count": 12,
     "metadata": {},
     "output_type": "execute_result"
    }
   ],
   "source": [
    "df= pd.pivot_table(data=data,index=\"Pclass\",values=\"Survived\",columns=\"Sex\")\r\n",
    "df"
   ]
  },
  {
   "cell_type": "code",
   "execution_count": 13,
   "metadata": {},
   "outputs": [],
   "source": [
    "data[\"Sex_bin\"]= pd.factorize(data.Sex)[0]\r\n",
    "# data.Sex_bin"
   ]
  },
  {
   "cell_type": "code",
   "execution_count": 14,
   "metadata": {},
   "outputs": [
    {
     "data": {
      "text/html": [
       "<div>\n",
       "<style scoped>\n",
       "    .dataframe tbody tr th:only-of-type {\n",
       "        vertical-align: middle;\n",
       "    }\n",
       "\n",
       "    .dataframe tbody tr th {\n",
       "        vertical-align: top;\n",
       "    }\n",
       "\n",
       "    .dataframe thead th {\n",
       "        text-align: right;\n",
       "    }\n",
       "</style>\n",
       "<table border=\"1\" class=\"dataframe\">\n",
       "  <thead>\n",
       "    <tr style=\"text-align: right;\">\n",
       "      <th></th>\n",
       "      <th>Age</th>\n",
       "      <th>Sex_bin</th>\n",
       "      <th>Pclass</th>\n",
       "      <th>Survived</th>\n",
       "    </tr>\n",
       "  </thead>\n",
       "  <tbody>\n",
       "    <tr>\n",
       "      <th>Age</th>\n",
       "      <td>1.000000</td>\n",
       "      <td>-0.093254</td>\n",
       "      <td>-0.369226</td>\n",
       "      <td>-0.077221</td>\n",
       "    </tr>\n",
       "    <tr>\n",
       "      <th>Sex_bin</th>\n",
       "      <td>-0.093254</td>\n",
       "      <td>1.000000</td>\n",
       "      <td>-0.131900</td>\n",
       "      <td>0.543351</td>\n",
       "    </tr>\n",
       "    <tr>\n",
       "      <th>Pclass</th>\n",
       "      <td>-0.369226</td>\n",
       "      <td>-0.131900</td>\n",
       "      <td>1.000000</td>\n",
       "      <td>-0.338481</td>\n",
       "    </tr>\n",
       "    <tr>\n",
       "      <th>Survived</th>\n",
       "      <td>-0.077221</td>\n",
       "      <td>0.543351</td>\n",
       "      <td>-0.338481</td>\n",
       "      <td>1.000000</td>\n",
       "    </tr>\n",
       "  </tbody>\n",
       "</table>\n",
       "</div>"
      ],
      "text/plain": [
       "               Age   Sex_bin    Pclass  Survived\n",
       "Age       1.000000 -0.093254 -0.369226 -0.077221\n",
       "Sex_bin  -0.093254  1.000000 -0.131900  0.543351\n",
       "Pclass   -0.369226 -0.131900  1.000000 -0.338481\n",
       "Survived -0.077221  0.543351 -0.338481  1.000000"
      ]
     },
     "execution_count": 14,
     "metadata": {},
     "output_type": "execute_result"
    }
   ],
   "source": [
    "# correlation\r\n",
    "corr_mat= data[[\"Age\",\"Sex_bin\",\"Pclass\",\"Survived\"]].corr()\r\n",
    "corr_mat"
   ]
  },
  {
   "cell_type": "code",
   "execution_count": 58,
   "metadata": {},
   "outputs": [
    {
     "data": {
      "image/png": "[encoded data removed]",
      "text/plain": [
       "<Figure size 576x396 with 2 Axes>"
      ]
     },
     "metadata": {},
     "output_type": "display_data"
    }
   ],
   "source": [
    "import numpy as np \n",
    "mask= np.triu(np.ones_like(corr_mat,dtype=bool))\n",
    "\n",
    "import matplotlib.pyplot as plt \n",
    "import seaborn as sns \n",
    "plt.style.use(\"seaborn\") # seaborn-poster\n",
    "# sns.set_theme(palette=\"bright\",style=\"darkgrid\")\n",
    "sns.heatmap(corr_mat,annot=True,mask=mask,cmap=sns.color_palette(\"bwr\", as_cmap=True),alpha=.9,cbar_kws={\"shrink\":.8})\n",
    "plt.title(\"Correation among , age, sex, cabin class, and survival\")\n",
    "# from matplotlib import rcParams rcParams[\"axes.titlepad\"]= 20\n",
    "plt.show()"
   ]
  },
  {
   "cell_type": "markdown",
   "metadata": {},
   "source": [
    "<img src=\"./img/01_heatmap_age_sex_pclass_survived.png\" width=\"450\" alt=\"https://raw.githubusercontent.com/da2021-jieun/datasci_exercises/main/regression/img/01_heatmap_age_sex_pclass_survived1.png\">"
   ]
  },
  {
   "cell_type": "markdown",
   "metadata": {},
   "source": [
    "## Preprocessing\r\n",
    "- Fill in empty cells of `Age`, `Embarked`\r\n",
    "\r\n",
    "- Drop non-useful columns: `Ticket`, `Cabin`, `Name`"
   ]
  },
  {
   "cell_type": "code",
   "execution_count": 16,
   "metadata": {},
   "outputs": [
    {
     "data": {
      "text/plain": [
       "(Sex\n",
       " female    27.915709\n",
       " male      30.726645\n",
       " Name: Age, dtype: float64,\n",
       " Sex\n",
       " female    27.0\n",
       " male      29.0\n",
       " Name: Age, dtype: float64)"
      ]
     },
     "execution_count": 16,
     "metadata": {},
     "output_type": "execute_result"
    }
   ],
   "source": [
    "data.groupby(\"Sex\")[\"Age\"].mean(), data.groupby(\"Sex\")[\"Age\"].median()"
   ]
  },
  {
   "cell_type": "code",
   "execution_count": 17,
   "metadata": {},
   "outputs": [
    {
     "data": {
      "text/plain": [
       "(28.0, 29.69911764705882)"
      ]
     },
     "execution_count": 17,
     "metadata": {},
     "output_type": "execute_result"
    }
   ],
   "source": [
    "data.Age.median(), data.Age.mean()"
   ]
  },
  {
   "cell_type": "code",
   "execution_count": 18,
   "metadata": {},
   "outputs": [],
   "source": [
    "# - Fill in empty cells of `Age`\r\n",
    "# transform()\r\n",
    "# https://stackoverflow.com/questions/40957932/transform-vs-aggregate-in-pandas\r\n",
    "data.Age.fillna(data.groupby(\"Sex\")[\"Age\"].transform(\"median\"),inplace=True)"
   ]
  },
  {
   "cell_type": "code",
   "execution_count": 19,
   "metadata": {},
   "outputs": [],
   "source": [
    "# - Fill in empty cells of `Embarked` with the last value before NaN\r\n",
    "data.Embarked.fillna(method=\"pad\",inplace=True)"
   ]
  },
  {
   "cell_type": "code",
   "execution_count": 20,
   "metadata": {},
   "outputs": [],
   "source": [
    "# Drop non-useful columns: `Ticket`, `Cabin`\r\n",
    "data.drop([\"Ticket\",\"Cabin\",\"Name\",\"Sex\"],axis=1,inplace=True)"
   ]
  },
  {
   "cell_type": "markdown",
   "metadata": {},
   "source": [
    "## Feature Engineering\r\n",
    "- Add features: `Age_bin`, `Fare_bin`, `Solo`"
   ]
  },
  {
   "cell_type": "code",
   "execution_count": 21,
   "metadata": {},
   "outputs": [
    {
     "data": {
      "text/plain": [
       "80.0"
      ]
     },
     "execution_count": 21,
     "metadata": {},
     "output_type": "execute_result"
    }
   ],
   "source": [
    "data.Age.max()"
   ]
  },
  {
   "cell_type": "code",
   "execution_count": 22,
   "metadata": {},
   "outputs": [],
   "source": [
    "data[\"Age_group\"]= pd.cut(data.Age,bins=[0,9,16,30,55,80]) #\r\n",
    "df_agegroup= data[[\"Age_group\",\"Survived\",\"Age\"]].groupby(\"Age_group\").agg(dict(Age=[\"min\",\"max\",\"median\",\"mean\",\"std\"], Age_group=[\"count\"]))"
   ]
  },
  {
   "cell_type": "code",
   "execution_count": 23,
   "metadata": {
    "tags": []
   },
   "outputs": [
    {
     "name": "stdout",
     "output_type": "stream",
     "text": [
      "             Age                                   Age_group\n",
      "             min   max median       mean       std     count\n",
      "Age_group                                                   \n",
      "(0, 9]      0.42   9.0    4.0   4.083387  2.834747        62\n",
      "(9, 16]    10.00  16.0   15.0  14.407895  1.951629        38\n",
      "(16, 30]   17.00  30.0   27.0  25.387860  3.939789       486\n",
      "(30, 55]   30.50  55.0   39.0  39.996226  6.789725       265\n",
      "(55, 80]   55.50  80.0   61.0  62.350000  5.619563        40\n"
     ]
    }
   ],
   "source": [
    "print(df_agegroup)"
   ]
  },
  {
   "cell_type": "code",
   "execution_count": 59,
   "metadata": {},
   "outputs": [
    {
     "data": {
      "image/png": "[encoded data removed]",
      "text/plain": [
       "<Figure size 576x396 with 1 Axes>"
      ]
     },
     "metadata": {},
     "output_type": "display_data"
    }
   ],
   "source": [
    "df_agegroup.plot(kind=\"area\")#,x=\"Age_group\",y=\"Age\"\n",
    "plt.style.use(\"Solarize_Light2\") \n",
    "\n",
    "plt.show()"
   ]
  },
  {
   "cell_type": "markdown",
   "metadata": {},
   "source": [
    "<img src=\"./img/02_groupby_agegroup_stats_plot_area.png\" width=\"600\">"
   ]
  },
  {
   "cell_type": "code",
   "execution_count": 25,
   "metadata": {},
   "outputs": [
    {
     "data": {
      "text/plain": [
       "(16, 30]    486\n",
       "(30, 55]    265\n",
       "(0, 9]       62\n",
       "(55, 80]     40\n",
       "(9, 16]      38\n",
       "Name: Age_group, dtype: int64"
      ]
     },
     "execution_count": 25,
     "metadata": {},
     "output_type": "execute_result"
    }
   ],
   "source": [
    "data.Age_group.value_counts()"
   ]
  },
  {
   "cell_type": "code",
   "execution_count": 26,
   "metadata": {},
   "outputs": [
    {
     "name": "stdout",
     "output_type": "stream",
     "text": [
      "             min   max  median       mean       std  size\n",
      "Age_group                                                \n",
      "(0, 9]      0.42   9.0     4.0   4.083387  2.834747    62\n",
      "(9, 16]    10.00  16.0    15.0  14.407895  1.951629    38\n",
      "(16, 30]   17.00  30.0    27.0  25.387860  3.939789   486\n",
      "(30, 55]   30.50  55.0    39.0  39.996226  6.789725   265\n",
      "(55, 80]   55.50  80.0    61.0  62.350000  5.619563    40\n"
     ]
    }
   ],
   "source": [
    "df_age= data.groupby(\"Age_group\")[\"Age\"].agg([\"min\",\"max\",\"median\",\"mean\",\"std\",\"size\"])\r\n",
    "print(df_age)"
   ]
  },
  {
   "cell_type": "code",
   "execution_count": 27,
   "metadata": {},
   "outputs": [
    {
     "data": {
      "text/html": [
       "<div>\n",
       "<style scoped>\n",
       "    .dataframe tbody tr th:only-of-type {\n",
       "        vertical-align: middle;\n",
       "    }\n",
       "\n",
       "    .dataframe tbody tr th {\n",
       "        vertical-align: top;\n",
       "    }\n",
       "\n",
       "    .dataframe thead th {\n",
       "        text-align: right;\n",
       "    }\n",
       "</style>\n",
       "<table border=\"1\" class=\"dataframe\">\n",
       "  <thead>\n",
       "    <tr style=\"text-align: right;\">\n",
       "      <th></th>\n",
       "      <th>PassengerId</th>\n",
       "      <th>Survived</th>\n",
       "      <th>Pclass</th>\n",
       "      <th>Age</th>\n",
       "      <th>SibSp</th>\n",
       "      <th>Parch</th>\n",
       "      <th>Fare</th>\n",
       "      <th>Embarked</th>\n",
       "      <th>Sex_bin</th>\n",
       "      <th>Age_group</th>\n",
       "      <th>Age_bin</th>\n",
       "    </tr>\n",
       "  </thead>\n",
       "  <tbody>\n",
       "    <tr>\n",
       "      <th>0</th>\n",
       "      <td>1</td>\n",
       "      <td>0</td>\n",
       "      <td>3</td>\n",
       "      <td>22.0</td>\n",
       "      <td>1</td>\n",
       "      <td>0</td>\n",
       "      <td>7.25</td>\n",
       "      <td>S</td>\n",
       "      <td>0</td>\n",
       "      <td>(16, 30]</td>\n",
       "      <td>2</td>\n",
       "    </tr>\n",
       "  </tbody>\n",
       "</table>\n",
       "</div>"
      ],
      "text/plain": [
       "   PassengerId  Survived  Pclass   Age  SibSp  Parch  Fare Embarked  Sex_bin  \\\n",
       "0            1         0       3  22.0      1      0  7.25        S        0   \n",
       "\n",
       "  Age_group  Age_bin  \n",
       "0  (16, 30]        2  "
      ]
     },
     "execution_count": 27,
     "metadata": {},
     "output_type": "execute_result"
    }
   ],
   "source": [
    "data[\"Age_bin\"]= pd.Categorical(data.Age_group).codes\r\n",
    "data.head(1)"
   ]
  },
  {
   "cell_type": "code",
   "execution_count": 28,
   "metadata": {
    "tags": []
   },
   "outputs": [
    {
     "data": {
      "text/plain": [
       "Age_group  Age_bin\n",
       "(16, 30]   2          486\n",
       "(30, 55]   3          265\n",
       "(0, 9]     0           62\n",
       "(55, 80]   4           40\n",
       "(9, 16]    1           38\n",
       "dtype: int64"
      ]
     },
     "execution_count": 28,
     "metadata": {},
     "output_type": "execute_result"
    }
   ],
   "source": [
    "data[[\"Age_group\",\"Age_bin\"]].value_counts()"
   ]
  },
  {
   "cell_type": "code",
   "execution_count": 61,
   "metadata": {},
   "outputs": [
    {
     "data": {
      "image/png": "[encoded data removed]",
      "text/plain": [
       "<Figure size 720x432 with 6 Axes>"
      ]
     },
     "metadata": {},
     "output_type": "display_data"
    }
   ],
   "source": [
    "plt.style.use(\"seaborn\")\n",
    "# data.groupby(\"Age_bin\")[[\"Age\"]].plot(kind=\"box\",subplots=True,grid=True,sharex=True,sharey=False,title=\"Boxplot for Each Age Group\")\n",
    "grouped= data.groupby(\"Age_group\")[[\"Age\"]]\n",
    "ncols= int(grouped.ngroups/2)+(grouped.ngroups%2) #round up\n",
    "fig,ax= plt.subplots(figsize=(10,6),nrows=2,ncols=ncols,gridspec_kw=dict(hspace=.5,wspace=0.3))\n",
    "groups= zip(grouped.groups.keys(),ax.flatten())\n",
    "for i,(key,axis) in enumerate(groups):\n",
    "    axis.boxplot(grouped.get_group(key))\n",
    "    axis.set_xlabel(\"Age\",fontsize=12)\n",
    "    axis.set_title(\"age group: %s\"%str(key),fontsize=14)\n",
    "    axis.margins(x=.1,y=.3)\n",
    "\n",
    "plt.show()"
   ]
  },
  {
   "cell_type": "markdown",
   "metadata": {},
   "source": [
    "<img src=\"./img/03_groupby_age_group_boxplot.png\" width=\"600\" alt=\"https://raw.githubusercontent.com/da2021-jieun/datasci_exercises/main/regression/img/02_groupby_agegroup_stats_plot_area.png\">"
   ]
  },
  {
   "cell_type": "code",
   "execution_count": 30,
   "metadata": {},
   "outputs": [],
   "source": [
    "data.insert(7,\"Embarked_bin\",pd.Categorical(data.Embarked).codes)"
   ]
  },
  {
   "cell_type": "code",
   "execution_count": 31,
   "metadata": {},
   "outputs": [],
   "source": [
    "data[\"Fare_group\"]= pd.cut(data.Fare,bins=[0,8,15,31,513])\r\n",
    "data.insert(6,\"Fare_bin\",pd.Categorical(data.Fare_group).codes)"
   ]
  },
  {
   "cell_type": "code",
   "execution_count": 32,
   "metadata": {},
   "outputs": [],
   "source": [
    "data.insert(4,\"In_company\",((data.SibSp+data.Parch)>0).astype(int))"
   ]
  },
  {
   "cell_type": "code",
   "execution_count": 33,
   "metadata": {},
   "outputs": [
    {
     "data": {
      "text/html": [
       "<div>\n",
       "<style scoped>\n",
       "    .dataframe tbody tr th:only-of-type {\n",
       "        vertical-align: middle;\n",
       "    }\n",
       "\n",
       "    .dataframe tbody tr th {\n",
       "        vertical-align: top;\n",
       "    }\n",
       "\n",
       "    .dataframe thead th {\n",
       "        text-align: right;\n",
       "    }\n",
       "</style>\n",
       "<table border=\"1\" class=\"dataframe\">\n",
       "  <thead>\n",
       "    <tr style=\"text-align: right;\">\n",
       "      <th></th>\n",
       "      <th>PassengerId</th>\n",
       "      <th>Survived</th>\n",
       "      <th>Pclass</th>\n",
       "      <th>Age</th>\n",
       "      <th>In_company</th>\n",
       "      <th>SibSp</th>\n",
       "      <th>Parch</th>\n",
       "      <th>Fare_bin</th>\n",
       "      <th>Fare</th>\n",
       "      <th>Embarked_bin</th>\n",
       "      <th>Embarked</th>\n",
       "      <th>Sex_bin</th>\n",
       "      <th>Age_group</th>\n",
       "      <th>Age_bin</th>\n",
       "      <th>Fare_group</th>\n",
       "    </tr>\n",
       "  </thead>\n",
       "  <tbody>\n",
       "    <tr>\n",
       "      <th>0</th>\n",
       "      <td>1</td>\n",
       "      <td>0</td>\n",
       "      <td>3</td>\n",
       "      <td>22.0</td>\n",
       "      <td>1</td>\n",
       "      <td>1</td>\n",
       "      <td>0</td>\n",
       "      <td>0</td>\n",
       "      <td>7.2500</td>\n",
       "      <td>2</td>\n",
       "      <td>S</td>\n",
       "      <td>0</td>\n",
       "      <td>(16, 30]</td>\n",
       "      <td>2</td>\n",
       "      <td>(0, 8]</td>\n",
       "    </tr>\n",
       "    <tr>\n",
       "      <th>1</th>\n",
       "      <td>2</td>\n",
       "      <td>1</td>\n",
       "      <td>1</td>\n",
       "      <td>38.0</td>\n",
       "      <td>1</td>\n",
       "      <td>1</td>\n",
       "      <td>0</td>\n",
       "      <td>3</td>\n",
       "      <td>71.2833</td>\n",
       "      <td>0</td>\n",
       "      <td>C</td>\n",
       "      <td>1</td>\n",
       "      <td>(30, 55]</td>\n",
       "      <td>3</td>\n",
       "      <td>(31, 513]</td>\n",
       "    </tr>\n",
       "    <tr>\n",
       "      <th>2</th>\n",
       "      <td>3</td>\n",
       "      <td>1</td>\n",
       "      <td>3</td>\n",
       "      <td>26.0</td>\n",
       "      <td>0</td>\n",
       "      <td>0</td>\n",
       "      <td>0</td>\n",
       "      <td>0</td>\n",
       "      <td>7.9250</td>\n",
       "      <td>2</td>\n",
       "      <td>S</td>\n",
       "      <td>1</td>\n",
       "      <td>(16, 30]</td>\n",
       "      <td>2</td>\n",
       "      <td>(0, 8]</td>\n",
       "    </tr>\n",
       "  </tbody>\n",
       "</table>\n",
       "</div>"
      ],
      "text/plain": [
       "   PassengerId  Survived  Pclass   Age  In_company  SibSp  Parch  Fare_bin  \\\n",
       "0            1         0       3  22.0           1      1      0         0   \n",
       "1            2         1       1  38.0           1      1      0         3   \n",
       "2            3         1       3  26.0           0      0      0         0   \n",
       "\n",
       "      Fare  Embarked_bin Embarked  Sex_bin Age_group  Age_bin Fare_group  \n",
       "0   7.2500             2        S        0  (16, 30]        2     (0, 8]  \n",
       "1  71.2833             0        C        1  (30, 55]        3  (31, 513]  \n",
       "2   7.9250             2        S        1  (16, 30]        2     (0, 8]  "
      ]
     },
     "execution_count": 33,
     "metadata": {},
     "output_type": "execute_result"
    }
   ],
   "source": [
    "data.head(3)"
   ]
  },
  {
   "cell_type": "code",
   "execution_count": 34,
   "metadata": {},
   "outputs": [
    {
     "data": {
      "text/plain": [
       "3    0.551066\n",
       "1    0.242424\n",
       "2    0.206510\n",
       "Name: Pclass, dtype: float64"
      ]
     },
     "execution_count": 34,
     "metadata": {},
     "output_type": "execute_result"
    }
   ],
   "source": [
    "data.Pclass.value_counts()/data.shape[0]"
   ]
  },
  {
   "cell_type": "code",
   "execution_count": 35,
   "metadata": {},
   "outputs": [
    {
     "data": {
      "text/plain": [
       "Index(['PassengerId', 'Survived', 'Pclass', 'Age', 'In_company', 'SibSp',\n",
       "       'Parch', 'Fare_bin', 'Fare', 'Embarked_bin', 'Embarked', 'Sex_bin',\n",
       "       'Age_group', 'Age_bin', 'Fare_group'],\n",
       "      dtype='object')"
      ]
     },
     "execution_count": 35,
     "metadata": {},
     "output_type": "execute_result"
    }
   ],
   "source": [
    "data.columns"
   ]
  },
  {
   "cell_type": "code",
   "execution_count": 36,
   "metadata": {},
   "outputs": [],
   "source": [
    "# data.dtypes"
   ]
  },
  {
   "cell_type": "code",
   "execution_count": 37,
   "metadata": {},
   "outputs": [
    {
     "name": "stdout",
     "output_type": "stream",
     "text": [
      "                            OLS Regression Results                            \n",
      "==============================================================================\n",
      "Dep. Variable:               Survived   R-squared:                       0.401\n",
      "Model:                            OLS   Adj. R-squared:                  0.395\n",
      "Method:                 Least Squares   F-statistic:                     65.64\n",
      "Date:                Thu, 08 Jul 2021   Prob (F-statistic):           4.41e-92\n",
      "Time:                        07:33:16   Log-Likelihood:                -393.35\n",
      "No. Observations:                 891   AIC:                             806.7\n",
      "Df Residuals:                     881   BIC:                             854.6\n",
      "Df Model:                           9                                         \n",
      "Covariance Type:            nonrobust                                         \n",
      "================================================================================\n",
      "                   coef    std err          t      P>|t|      [0.025      0.975]\n",
      "--------------------------------------------------------------------------------\n",
      "Intercept        0.7864      0.091      8.609      0.000       0.607       0.966\n",
      "Pclass          -0.1537      0.024     -6.471      0.000      -0.200      -0.107\n",
      "In_company       0.0525      0.037      1.421      0.156      -0.020       0.125\n",
      "Embarked_bin    -0.0330      0.017     -1.978      0.048      -0.066      -0.000\n",
      "Fare_bin         0.0163      0.019      0.852      0.394      -0.021       0.054\n",
      "Sex_bin          0.4859      0.028     17.134      0.000       0.430       0.542\n",
      "Age_bin         -0.0405      0.036     -1.126      0.260      -0.111       0.030\n",
      "Fare             0.0002      0.000      0.454      0.650      -0.001       0.001\n",
      "SibSp           -0.0681      0.016     -4.366      0.000      -0.099      -0.038\n",
      "Age             -0.0031      0.002     -1.315      0.189      -0.008       0.002\n",
      "==============================================================================\n",
      "Omnibus:                       33.711   Durbin-Watson:                   1.946\n",
      "Prob(Omnibus):                  0.000   Jarque-Bera (JB):               36.640\n",
      "Skew:                           0.493   Prob(JB):                     1.11e-08\n",
      "Kurtosis:                       3.128   Cond. No.                         464.\n",
      "==============================================================================\n",
      "\n",
      "Notes:\n",
      "[1] Standard Errors assume that the covariance matrix of the errors is correctly specified.\n"
     ]
    }
   ],
   "source": [
    "cols= ['Pclass', 'In_company','Embarked_bin', 'Fare_bin', 'Sex_bin','Age_bin',\"Fare\",\"SibSp\",\"Age\"]\r\n",
    "X= data[cols].values\r\n",
    "y= data.Survived.values\r\n",
    "\r\n",
    "import statsmodels.api as sm \r\n",
    "X= sm.add_constant(X)\r\n",
    "\r\n",
    "model_ols= sm.OLS(y,X)\r\n",
    "res= model_ols.fit()\r\n",
    "print(res.summary(xname=[\"Intercept\"]+cols,yname=\"Survived\"))"
   ]
  },
  {
   "cell_type": "code",
   "execution_count": 38,
   "metadata": {},
   "outputs": [
    {
     "name": "stdout",
     "output_type": "stream",
     "text": [
      "R_squared 0.37899024511094415\n"
     ]
    }
   ],
   "source": [
    "R_sqrd= []\r\n",
    "from sklearn.model_selection import train_test_split\r\n",
    "for i in range(100):\r\n",
    "    X_train,X_test,y_train,y_test= train_test_split(X,y,test_size=.3)\r\n",
    "    model= sm.OLS(y_train,X_train)\r\n",
    "    res= model.fit()\r\n",
    "    pred= res.predict(X_test)\r\n",
    "    R2= 1 - sum((pred-y_test)**2)/sum((y_test-y_test.mean())**2)\r\n",
    "    R_sqrd.append(R2)\r\n",
    "print(\"R_squared\",np.mean(R_sqrd))"
   ]
  },
  {
   "cell_type": "code",
   "execution_count": 39,
   "metadata": {},
   "outputs": [
    {
     "data": {
      "text/plain": [
       "{'Age', 'Embarked_bin', 'Fare', 'In_company', 'Pclass', 'Sex_bin', 'SibSp'}"
      ]
     },
     "execution_count": 39,
     "metadata": {},
     "output_type": "execute_result"
    }
   ],
   "source": [
    "set(cols).difference(set([\"Age_bin\",\"Fare_bin\"]))"
   ]
  },
  {
   "cell_type": "code",
   "execution_count": 40,
   "metadata": {},
   "outputs": [
    {
     "data": {
      "image/png": "[encoded data removed]",
      "text/plain": [
       "<Figure size 576x396 with 2 Axes>"
      ]
     },
     "metadata": {},
     "output_type": "display_data"
    }
   ],
   "source": [
    "plt.style.use(\"seaborn\")\n",
    "corr_mat= data[set(cols).difference(set([\"Age_bin\",\"Fare_bin\"]))].corr()\n",
    "mask= np.triu(np.ones_like(corr_mat,dtype=bool))\n",
    "sns.heatmap(corr_mat,mask=mask,cbar=True,annot=True,cmap=\"autumn_r\")\n",
    "plt.title(\"Correlation among the features\")\n",
    "plt.show()"
   ]
  },
  {
   "cell_type": "markdown",
   "metadata": {},
   "source": [
    "<img src=\"./img/04_corr_mat_ols_features.png\" width=\"600\" alt=\"https://raw.githubusercontent.com/da2021-jieun/datasci_exercises/main/regression/img/04_corr_mat_ols_features.png\">"
   ]
  },
  {
   "cell_type": "markdown",
   "metadata": {},
   "source": [
    "## Next Step: Look at outliers in the data"
   ]
  }
 ],
 "metadata": {
  "interpreter": {
   "hash": "de71712264a6f5c39d2516a5db446814c5e4482bce6a5f66407a55107bdf69b2"
  },
  "kernelspec": {
   "display_name": "Python 3",
   "language": "python",
   "name": "python3"
  },
  "language_info": {
   "codemirror_mode": {
    "name": "ipython",
    "version": 3
   },
   "file_extension": ".py",
   "mimetype": "text/x-python",
   "name": "python",
   "nbconvert_exporter": "python",
   "pygments_lexer": "ipython3",
   "version": "3.8.5"
  }
 },
 "nbformat": 4,
 "nbformat_minor": 4
}
